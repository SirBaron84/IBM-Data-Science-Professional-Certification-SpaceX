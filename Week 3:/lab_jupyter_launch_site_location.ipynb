{
 "cells": [
  {
   "cell_type": "markdown",
   "metadata": {
    "id": "3n3ltmfnrqpi",
    "outputId": "a2d4f52a-2fb7-4668-f5f0-fe862aab8eb0",
    "papermill": {
     "duration": 1.489571,
     "end_time": "2020-09-19T06:26:57.168979",
     "exception": false,
     "start_time": "2020-09-19T06:26:55.679408",
     "status": "completed"
    },
    "tags": []
   },
   "source": [
    "<center>\n",
    "    <img src=\"https://gitlab.com/ibm/skills-network/courses/placeholder101/-/raw/master/labs/module%201/images/IDSNlogo.png\" width=\"300\" alt=\"cognitiveclass.ai logo\"  />\n",
    "</center>\n"
   ]
  },
  {
   "cell_type": "markdown",
   "metadata": {},
   "source": [
    "# **Launch Sites Locations Analysis with Folium**\n"
   ]
  },
  {
   "cell_type": "markdown",
   "metadata": {},
   "source": [
    "Estimated time needed: **40** minutes\n"
   ]
  },
  {
   "cell_type": "markdown",
   "metadata": {},
   "source": [
    "The launch success rate may depend on many factors such as payload mass, orbit type, and so on. It may also depend on the location and proximities of a launch site, i.e., the initial position of rocket trajectories. Finding an optimal location for building a launch site certainly involves many factors and hopefully we could discover some of the factors by analyzing the existing launch site locations.\n"
   ]
  },
  {
   "cell_type": "markdown",
   "metadata": {},
   "source": [
    "In the previous exploratory data analysis labs, you have visualized the SpaceX launch dataset using `matplotlib` and `seaborn` and discovered some preliminary correlations between the launch site and success rates. In this lab, you will be performing more interactive visual analytics using `Folium`.\n"
   ]
  },
  {
   "cell_type": "markdown",
   "metadata": {},
   "source": [
    "## Objectives\n"
   ]
  },
  {
   "cell_type": "markdown",
   "metadata": {},
   "source": [
    "This lab contains the following tasks:\n",
    "\n",
    "*   **TASK 1:** Mark all launch sites on a map\n",
    "*   **TASK 2:** Mark the success/failed launches for each site on the map\n",
    "*   **TASK 3:** Calculate the distances between a launch site to its proximities\n",
    "\n",
    "After completed the above tasks, you should be able to find some geographical patterns about launch sites.\n"
   ]
  },
  {
   "cell_type": "markdown",
   "metadata": {},
   "source": [
    "Let's first import required Python packages for this lab:\n"
   ]
  },
  {
   "cell_type": "code",
   "execution_count": 1,
   "metadata": {},
   "outputs": [
    {
     "name": "stdout",
     "output_type": "stream",
     "text": [
      "Requirement already satisfied: folium in c:\\programdata\\anaconda3\\lib\\site-packages (0.12.1)\n",
      "Requirement already satisfied: numpy in c:\\users\\gebruiker\\appdata\\roaming\\python\\python38\\site-packages (from folium) (1.19.4)\n",
      "Requirement already satisfied: jinja2>=2.9 in c:\\programdata\\anaconda3\\lib\\site-packages (from folium) (2.11.2)\n",
      "Requirement already satisfied: requests in c:\\programdata\\anaconda3\\lib\\site-packages (from folium) (2.24.0)\n",
      "Requirement already satisfied: branca>=0.3.0 in c:\\programdata\\anaconda3\\lib\\site-packages (from folium) (0.4.1)\n",
      "Requirement already satisfied: MarkupSafe>=0.23 in c:\\programdata\\anaconda3\\lib\\site-packages (from jinja2>=2.9->folium) (1.1.1)\n",
      "Requirement already satisfied: chardet<4,>=3.0.2 in c:\\programdata\\anaconda3\\lib\\site-packages (from requests->folium) (3.0.4)\n",
      "Requirement already satisfied: certifi>=2017.4.17 in c:\\programdata\\anaconda3\\lib\\site-packages (from requests->folium) (2020.6.20)\n",
      "Requirement already satisfied: urllib3!=1.25.0,!=1.25.1,<1.26,>=1.21.1 in c:\\programdata\\anaconda3\\lib\\site-packages (from requests->folium) (1.25.9)\n",
      "Requirement already satisfied: idna<3,>=2.5 in c:\\programdata\\anaconda3\\lib\\site-packages (from requests->folium) (2.10)\n",
      "Requirement already satisfied: wget in c:\\programdata\\anaconda3\\lib\\site-packages (3.2)\n"
     ]
    }
   ],
   "source": [
    "!pip3 install folium\n",
    "!pip3 install wget"
   ]
  },
  {
   "cell_type": "code",
   "execution_count": 2,
   "metadata": {},
   "outputs": [],
   "source": [
    "import folium\n",
    "import wget\n",
    "import pandas as pd"
   ]
  },
  {
   "cell_type": "code",
   "execution_count": 3,
   "metadata": {},
   "outputs": [],
   "source": [
    "# Import folium MarkerCluster plugin\n",
    "from folium.plugins import MarkerCluster\n",
    "# Import folium MousePosition plugin\n",
    "from folium.plugins import MousePosition\n",
    "# Import folium DivIcon plugin\n",
    "from folium.features import DivIcon"
   ]
  },
  {
   "cell_type": "markdown",
   "metadata": {},
   "source": [
    "If you need to refresh your memory about folium, you may download and refer to this previous folium lab:\n"
   ]
  },
  {
   "cell_type": "markdown",
   "metadata": {},
   "source": [
    "[Generating Maps with Python](https://cf-courses-data.s3.us.cloud-object-storage.appdomain.cloud/IBM-DS0321EN-SkillsNetwork/labs/module\\_3/DV0101EN-3-5-1-Generating-Maps-in-Python-py-v2.0.ipynb)\n"
   ]
  },
  {
   "cell_type": "markdown",
   "metadata": {},
   "source": [
    "## Task 1: Mark all launch sites on a map\n"
   ]
  },
  {
   "cell_type": "markdown",
   "metadata": {},
   "source": [
    "First, let's try to add each site's location on a map using site's latitude and longitude coordinates\n"
   ]
  },
  {
   "cell_type": "markdown",
   "metadata": {},
   "source": [
    "The following dataset with the name `spacex_launch_geo.csv` is an augmented dataset with latitude and longitude added for each site.\n"
   ]
  },
  {
   "cell_type": "code",
   "execution_count": 4,
   "metadata": {},
   "outputs": [],
   "source": [
    "# Download and read the `spacex_launch_geo.csv`\n",
    "spacex_csv_file = wget.download('https://cf-courses-data.s3.us.cloud-object-storage.appdomain.cloud/IBM-DS0321EN-SkillsNetwork/datasets/spacex_launch_geo.csv')\n",
    "spacex_df=pd.read_csv(spacex_csv_file)"
   ]
  },
  {
   "cell_type": "markdown",
   "metadata": {},
   "source": [
    "Now, you can take a look at what are the coordinates for each site.\n"
   ]
  },
  {
   "cell_type": "code",
   "execution_count": 5,
   "metadata": {},
   "outputs": [
    {
     "data": {
      "text/html": [
       "<div>\n",
       "<style scoped>\n",
       "    .dataframe tbody tr th:only-of-type {\n",
       "        vertical-align: middle;\n",
       "    }\n",
       "\n",
       "    .dataframe tbody tr th {\n",
       "        vertical-align: top;\n",
       "    }\n",
       "\n",
       "    .dataframe thead th {\n",
       "        text-align: right;\n",
       "    }\n",
       "</style>\n",
       "<table border=\"1\" class=\"dataframe\">\n",
       "  <thead>\n",
       "    <tr style=\"text-align: right;\">\n",
       "      <th></th>\n",
       "      <th>Launch Site</th>\n",
       "      <th>Lat</th>\n",
       "      <th>Long</th>\n",
       "    </tr>\n",
       "  </thead>\n",
       "  <tbody>\n",
       "    <tr>\n",
       "      <th>0</th>\n",
       "      <td>CCAFS LC-40</td>\n",
       "      <td>28.562302</td>\n",
       "      <td>-80.577356</td>\n",
       "    </tr>\n",
       "    <tr>\n",
       "      <th>1</th>\n",
       "      <td>CCAFS SLC-40</td>\n",
       "      <td>28.563197</td>\n",
       "      <td>-80.576820</td>\n",
       "    </tr>\n",
       "    <tr>\n",
       "      <th>2</th>\n",
       "      <td>KSC LC-39A</td>\n",
       "      <td>28.573255</td>\n",
       "      <td>-80.646895</td>\n",
       "    </tr>\n",
       "    <tr>\n",
       "      <th>3</th>\n",
       "      <td>VAFB SLC-4E</td>\n",
       "      <td>34.632834</td>\n",
       "      <td>-120.610746</td>\n",
       "    </tr>\n",
       "  </tbody>\n",
       "</table>\n",
       "</div>"
      ],
      "text/plain": [
       "    Launch Site        Lat        Long\n",
       "0   CCAFS LC-40  28.562302  -80.577356\n",
       "1  CCAFS SLC-40  28.563197  -80.576820\n",
       "2    KSC LC-39A  28.573255  -80.646895\n",
       "3   VAFB SLC-4E  34.632834 -120.610746"
      ]
     },
     "execution_count": 5,
     "metadata": {},
     "output_type": "execute_result"
    }
   ],
   "source": [
    "# Select relevant sub-columns: `Launch Site`, `Lat(Latitude)`, `Long(Longitude)`, `class`\n",
    "spacex_df = spacex_df[['Launch Site', 'Lat', 'Long', 'class']]\n",
    "launch_sites_df = spacex_df.groupby(['Launch Site'], as_index=False).first()\n",
    "launch_sites_df = launch_sites_df[['Launch Site', 'Lat', 'Long']]\n",
    "launch_sites_df"
   ]
  },
  {
   "cell_type": "code",
   "execution_count": 6,
   "metadata": {},
   "outputs": [
    {
     "data": {
      "text/plain": [
       "34.63283416"
      ]
     },
     "execution_count": 6,
     "metadata": {},
     "output_type": "execute_result"
    }
   ],
   "source": [
    "launch_sites_df[\"Lat\"][3]"
   ]
  },
  {
   "cell_type": "markdown",
   "metadata": {},
   "source": [
    "\n",
    "Above coordinates are just plain numbers that can not give you any intuitive insights about where are those launch sites. If you are very good at geography, you can interpret those numbers directly in your mind. If not, that's fine too. Let's visualize those locations by pinning them on a map.\n"
   ]
  },
  {
   "cell_type": "markdown",
   "metadata": {},
   "source": [
    "We first need to create a folium `Map` object, with an initial center location to be NASA Johnson Space Center at Houston, Texas.\n"
   ]
  },
  {
   "cell_type": "code",
   "execution_count": 7,
   "metadata": {},
   "outputs": [],
   "source": [
    "# Start location is NASA Johnson Space Center\n",
    "nasa_coordinate = [29.559684888503615, -95.0830971930759]\n",
    "site_map = folium.Map(location=nasa_coordinate, zoom_start=10)"
   ]
  },
  {
   "cell_type": "markdown",
   "metadata": {},
   "source": [
    "We could use `folium.Circle` to add a highlighted circle area with a text label on a specific coordinate. For example,\n"
   ]
  },
  {
   "cell_type": "code",
   "execution_count": 8,
   "metadata": {},
   "outputs": [
    {
     "data": {
      "text/html": [
       "<div style=\"width:100%;\"><div style=\"position:relative;width:100%;height:0;padding-bottom:60%;\"><span style=\"color:#565656\">Make this Notebook Trusted to load map: File -> Trust Notebook</span><iframe src=\"about:blank\" style=\"position:absolute;width:100%;height:100%;left:0;top:0;border:none !important;\" data-html=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 onload=\"this.contentDocument.open();this.contentDocument.write(atob(this.getAttribute('data-html')));this.contentDocument.close();\" allowfullscreen webkitallowfullscreen mozallowfullscreen></iframe></div></div>"
      ],
      "text/plain": [
       "<folium.folium.Map at 0x228460f12b0>"
      ]
     },
     "execution_count": 8,
     "metadata": {},
     "output_type": "execute_result"
    }
   ],
   "source": [
    "# Create a blue circle at NASA Johnson Space Center's coordinate with a popup label showing its name\n",
    "circle = folium.Circle(nasa_coordinate, radius=1000, color='#d35400', fill=True).add_child(folium.Popup('NASA Johnson Space Center'))\n",
    "# Create a blue circle at NASA Johnson Space Center's coordinate with a icon showing its name\n",
    "marker = folium.map.Marker(\n",
    "    nasa_coordinate,\n",
    "    # Create an icon as a text label\n",
    "    icon=DivIcon(\n",
    "        icon_size=(20,20),\n",
    "        icon_anchor=(0,0),\n",
    "        html='<div style=\"font-size: 12; color:#d35400;\"><b>%s</b></div>' % 'NASA JSC',\n",
    "        )\n",
    "    )\n",
    "site_map.add_child(circle)\n",
    "site_map.add_child(marker)"
   ]
  },
  {
   "cell_type": "markdown",
   "metadata": {},
   "source": [
    "and you should find a small yellow circle near the city of Houston and you can zoom-in to see a larger circle.\n"
   ]
  },
  {
   "cell_type": "markdown",
   "metadata": {},
   "source": [
    "Now, let's add a circle for each launch site in data frame `launch_sites`\n"
   ]
  },
  {
   "cell_type": "markdown",
   "metadata": {},
   "source": [
    "*TODO:*  Create and add `folium.Circle` and `folium.Marker` for each launch site on the site map\n"
   ]
  },
  {
   "cell_type": "markdown",
   "metadata": {},
   "source": [
    "An example of folium.Circle:\n"
   ]
  },
  {
   "cell_type": "markdown",
   "metadata": {},
   "source": [
    "`folium.Circle(coordinate, radius=1000, color='#000000', fill=True).add_child(folium.Popup(...))`\n"
   ]
  },
  {
   "cell_type": "markdown",
   "metadata": {},
   "source": [
    "An example of folium.Marker:\n"
   ]
  },
  {
   "cell_type": "markdown",
   "metadata": {},
   "source": [
    "`folium.map.Marker(coordinate, icon=DivIcon(icon_size=(20,20),icon_anchor=(0,0), html='<div style=\"font-size: 12; color:#d35400;\"><b>%s</b></div>' % 'label', ))`\n"
   ]
  },
  {
   "cell_type": "code",
   "execution_count": 9,
   "metadata": {},
   "outputs": [
    {
     "data": {
      "text/html": [
       "<div style=\"width:100%;\"><div style=\"position:relative;width:100%;height:0;padding-bottom:60%;\"><span style=\"color:#565656\">Make this Notebook Trusted to load map: File -> Trust Notebook</span><iframe src=\"about:blank\" style=\"position:absolute;width:100%;height:100%;left:0;top:0;border:none !important;\" data-html=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 onload=\"this.contentDocument.open();this.contentDocument.write(atob(this.getAttribute('data-html')));this.contentDocument.close();\" allowfullscreen webkitallowfullscreen mozallowfullscreen></iframe></div></div>"
      ],
      "text/plain": [
       "<folium.folium.Map at 0x228461435e0>"
      ]
     },
     "execution_count": 9,
     "metadata": {},
     "output_type": "execute_result"
    }
   ],
   "source": [
    "# Initial the map\n",
    "site_map = folium.Map(location=nasa_coordinate, zoom_start=5)\n",
    "# For each launch site, add a Circle object based on its coordinate (Lat, Long) values. In addition, add Launch site name as a popup label\n",
    "launch_site_names = launch_sites_df[\"Launch Site\"]\n",
    "launch_site_names\n",
    "\n",
    "for i in range(0,4):\n",
    "    launch_site_name = launch_sites_df[\"Launch Site\"][i]\n",
    "    lat = launch_sites_df[\"Lat\"][i]\n",
    "    long = launch_sites_df[\"Long\"][i]\n",
    "    launch_site_coordinate = [lat, long]\n",
    "    # Create a blue circle at NASA Johnson Space Center's coordinate with a popup label showing its name\n",
    "    circle = folium.Circle(launch_site_coordinate, radius=1000, color='#d35400', fill=True).add_child(folium.Popup(launch_site_name))\n",
    "    # Create a blue circle at NASA Johnson Space Center's coordinate with a icon showing its name\n",
    "    marker = folium.map.Marker(\n",
    "        launch_site_coordinate,\n",
    "        # Create an icon as a text label\n",
    "        icon=DivIcon(\n",
    "            icon_size=(20,20),\n",
    "            icon_anchor=(0,0),\n",
    "            html='<div style=\"font-size: 12; color:#d35400;\"><b>%s</b></div>' % launch_site_name,\n",
    "            )\n",
    "        )\n",
    "    site_map.add_child(circle)\n",
    "    site_map.add_child(marker)\n",
    "site_map"
   ]
  },
  {
   "cell_type": "markdown",
   "metadata": {},
   "source": [
    "The generated map with marked launch sites should look similar to the following:\n"
   ]
  },
  {
   "cell_type": "markdown",
   "metadata": {},
   "source": [
    "<center>\n",
    "    <img src=\"https://cf-courses-data.s3.us.cloud-object-storage.appdomain.cloud/IBM-DS0321EN-SkillsNetwork/labs/module_3/images/launch_site_markers.png\" />\n",
    "</center>\n"
   ]
  },
  {
   "cell_type": "markdown",
   "metadata": {},
   "source": [
    "Now, you can explore the map by zoom-in/out the marked areas\n",
    ", and try to answer the following questions:\n",
    "\n",
    "*   Are all launch sites in proximity to the Equator line?\n",
    "*   Are all launch sites in very close proximity to the coast?\n",
    "\n",
    "Also please try to explain your findings.\n"
   ]
  },
  {
   "cell_type": "markdown",
   "metadata": {},
   "source": [
    "#### Yes the launch sites are close to Equator because rockets launched from sites near the Equator get an additional natural boost that helps save the cost of putting in extra fuel and boosters."
   ]
  },
  {
   "cell_type": "markdown",
   "metadata": {},
   "source": [
    "#### Yes all launch sites are close to the ocean."
   ]
  },
  {
   "cell_type": "markdown",
   "metadata": {},
   "source": [
    "# Task 2: Mark the success/failed launches for each site on the map\n"
   ]
  },
  {
   "cell_type": "markdown",
   "metadata": {},
   "source": [
    "Next, let's try to enhance the map by adding the launch outcomes for each site, and see which sites have high success rates.\n",
    "Recall that data frame spacex_df has detailed launch records, and the `class` column indicates if this launch was successful or not\n"
   ]
  },
  {
   "cell_type": "code",
   "execution_count": 10,
   "metadata": {},
   "outputs": [
    {
     "data": {
      "text/html": [
       "<div>\n",
       "<style scoped>\n",
       "    .dataframe tbody tr th:only-of-type {\n",
       "        vertical-align: middle;\n",
       "    }\n",
       "\n",
       "    .dataframe tbody tr th {\n",
       "        vertical-align: top;\n",
       "    }\n",
       "\n",
       "    .dataframe thead th {\n",
       "        text-align: right;\n",
       "    }\n",
       "</style>\n",
       "<table border=\"1\" class=\"dataframe\">\n",
       "  <thead>\n",
       "    <tr style=\"text-align: right;\">\n",
       "      <th></th>\n",
       "      <th>Launch Site</th>\n",
       "      <th>Lat</th>\n",
       "      <th>Long</th>\n",
       "      <th>class</th>\n",
       "    </tr>\n",
       "  </thead>\n",
       "  <tbody>\n",
       "    <tr>\n",
       "      <th>46</th>\n",
       "      <td>KSC LC-39A</td>\n",
       "      <td>28.573255</td>\n",
       "      <td>-80.646895</td>\n",
       "      <td>1</td>\n",
       "    </tr>\n",
       "    <tr>\n",
       "      <th>47</th>\n",
       "      <td>KSC LC-39A</td>\n",
       "      <td>28.573255</td>\n",
       "      <td>-80.646895</td>\n",
       "      <td>1</td>\n",
       "    </tr>\n",
       "    <tr>\n",
       "      <th>48</th>\n",
       "      <td>KSC LC-39A</td>\n",
       "      <td>28.573255</td>\n",
       "      <td>-80.646895</td>\n",
       "      <td>1</td>\n",
       "    </tr>\n",
       "    <tr>\n",
       "      <th>49</th>\n",
       "      <td>CCAFS SLC-40</td>\n",
       "      <td>28.563197</td>\n",
       "      <td>-80.576820</td>\n",
       "      <td>1</td>\n",
       "    </tr>\n",
       "    <tr>\n",
       "      <th>50</th>\n",
       "      <td>CCAFS SLC-40</td>\n",
       "      <td>28.563197</td>\n",
       "      <td>-80.576820</td>\n",
       "      <td>1</td>\n",
       "    </tr>\n",
       "    <tr>\n",
       "      <th>51</th>\n",
       "      <td>CCAFS SLC-40</td>\n",
       "      <td>28.563197</td>\n",
       "      <td>-80.576820</td>\n",
       "      <td>0</td>\n",
       "    </tr>\n",
       "    <tr>\n",
       "      <th>52</th>\n",
       "      <td>CCAFS SLC-40</td>\n",
       "      <td>28.563197</td>\n",
       "      <td>-80.576820</td>\n",
       "      <td>0</td>\n",
       "    </tr>\n",
       "    <tr>\n",
       "      <th>53</th>\n",
       "      <td>CCAFS SLC-40</td>\n",
       "      <td>28.563197</td>\n",
       "      <td>-80.576820</td>\n",
       "      <td>0</td>\n",
       "    </tr>\n",
       "    <tr>\n",
       "      <th>54</th>\n",
       "      <td>CCAFS SLC-40</td>\n",
       "      <td>28.563197</td>\n",
       "      <td>-80.576820</td>\n",
       "      <td>1</td>\n",
       "    </tr>\n",
       "    <tr>\n",
       "      <th>55</th>\n",
       "      <td>CCAFS SLC-40</td>\n",
       "      <td>28.563197</td>\n",
       "      <td>-80.576820</td>\n",
       "      <td>0</td>\n",
       "    </tr>\n",
       "  </tbody>\n",
       "</table>\n",
       "</div>"
      ],
      "text/plain": [
       "     Launch Site        Lat       Long  class\n",
       "46    KSC LC-39A  28.573255 -80.646895      1\n",
       "47    KSC LC-39A  28.573255 -80.646895      1\n",
       "48    KSC LC-39A  28.573255 -80.646895      1\n",
       "49  CCAFS SLC-40  28.563197 -80.576820      1\n",
       "50  CCAFS SLC-40  28.563197 -80.576820      1\n",
       "51  CCAFS SLC-40  28.563197 -80.576820      0\n",
       "52  CCAFS SLC-40  28.563197 -80.576820      0\n",
       "53  CCAFS SLC-40  28.563197 -80.576820      0\n",
       "54  CCAFS SLC-40  28.563197 -80.576820      1\n",
       "55  CCAFS SLC-40  28.563197 -80.576820      0"
      ]
     },
     "execution_count": 10,
     "metadata": {},
     "output_type": "execute_result"
    }
   ],
   "source": [
    "spacex_df.tail(10)"
   ]
  },
  {
   "cell_type": "markdown",
   "metadata": {},
   "source": [
    "Next, let's create markers for all launch records.\n",
    "If a launch was successful `(class=1)`, then we use a green marker and if a launch was failed, we use a red marker `(class=0)`\n"
   ]
  },
  {
   "cell_type": "markdown",
   "metadata": {},
   "source": [
    "Note that a launch only happens in one of the four launch sites, which means many launch records will have the exact same coordinate. Marker clusters can be a good way to simplify a map containing many markers having the same coordinate.\n"
   ]
  },
  {
   "cell_type": "markdown",
   "metadata": {},
   "source": [
    "Let's first create a `MarkerCluster` object\n"
   ]
  },
  {
   "cell_type": "code",
   "execution_count": 11,
   "metadata": {
    "id": "wP9PVUZ7Jfjt",
    "outputId": "6a3b8164-940c-4b93-9f3d-c655c4a0c683",
    "papermill": {
     "duration": 0.904519,
     "end_time": "2020-09-19T06:27:38.357041",
     "exception": false,
     "start_time": "2020-09-19T06:27:37.452522",
     "status": "completed"
    },
    "tags": []
   },
   "outputs": [],
   "source": [
    "marker_cluster = MarkerCluster()\n",
    "import numpy as np "
   ]
  },
  {
   "cell_type": "markdown",
   "metadata": {},
   "source": [
    "*TODO:* Create a new column in `launch_sites` dataframe called `marker_color` to store the marker colors based on the `class` value\n"
   ]
  },
  {
   "cell_type": "code",
   "execution_count": 12,
   "metadata": {},
   "outputs": [
    {
     "data": {
      "text/html": [
       "<div>\n",
       "<style scoped>\n",
       "    .dataframe tbody tr th:only-of-type {\n",
       "        vertical-align: middle;\n",
       "    }\n",
       "\n",
       "    .dataframe tbody tr th {\n",
       "        vertical-align: top;\n",
       "    }\n",
       "\n",
       "    .dataframe thead th {\n",
       "        text-align: right;\n",
       "    }\n",
       "</style>\n",
       "<table border=\"1\" class=\"dataframe\">\n",
       "  <thead>\n",
       "    <tr style=\"text-align: right;\">\n",
       "      <th></th>\n",
       "      <th>Launch Site</th>\n",
       "      <th>Lat</th>\n",
       "      <th>Long</th>\n",
       "      <th>class</th>\n",
       "      <th>marker_color</th>\n",
       "    </tr>\n",
       "  </thead>\n",
       "  <tbody>\n",
       "    <tr>\n",
       "      <th>46</th>\n",
       "      <td>KSC LC-39A</td>\n",
       "      <td>28.573255</td>\n",
       "      <td>-80.646895</td>\n",
       "      <td>1</td>\n",
       "      <td>green</td>\n",
       "    </tr>\n",
       "    <tr>\n",
       "      <th>47</th>\n",
       "      <td>KSC LC-39A</td>\n",
       "      <td>28.573255</td>\n",
       "      <td>-80.646895</td>\n",
       "      <td>1</td>\n",
       "      <td>green</td>\n",
       "    </tr>\n",
       "    <tr>\n",
       "      <th>48</th>\n",
       "      <td>KSC LC-39A</td>\n",
       "      <td>28.573255</td>\n",
       "      <td>-80.646895</td>\n",
       "      <td>1</td>\n",
       "      <td>green</td>\n",
       "    </tr>\n",
       "    <tr>\n",
       "      <th>49</th>\n",
       "      <td>CCAFS SLC-40</td>\n",
       "      <td>28.563197</td>\n",
       "      <td>-80.576820</td>\n",
       "      <td>1</td>\n",
       "      <td>green</td>\n",
       "    </tr>\n",
       "    <tr>\n",
       "      <th>50</th>\n",
       "      <td>CCAFS SLC-40</td>\n",
       "      <td>28.563197</td>\n",
       "      <td>-80.576820</td>\n",
       "      <td>1</td>\n",
       "      <td>green</td>\n",
       "    </tr>\n",
       "    <tr>\n",
       "      <th>51</th>\n",
       "      <td>CCAFS SLC-40</td>\n",
       "      <td>28.563197</td>\n",
       "      <td>-80.576820</td>\n",
       "      <td>0</td>\n",
       "      <td>red</td>\n",
       "    </tr>\n",
       "    <tr>\n",
       "      <th>52</th>\n",
       "      <td>CCAFS SLC-40</td>\n",
       "      <td>28.563197</td>\n",
       "      <td>-80.576820</td>\n",
       "      <td>0</td>\n",
       "      <td>red</td>\n",
       "    </tr>\n",
       "    <tr>\n",
       "      <th>53</th>\n",
       "      <td>CCAFS SLC-40</td>\n",
       "      <td>28.563197</td>\n",
       "      <td>-80.576820</td>\n",
       "      <td>0</td>\n",
       "      <td>red</td>\n",
       "    </tr>\n",
       "    <tr>\n",
       "      <th>54</th>\n",
       "      <td>CCAFS SLC-40</td>\n",
       "      <td>28.563197</td>\n",
       "      <td>-80.576820</td>\n",
       "      <td>1</td>\n",
       "      <td>green</td>\n",
       "    </tr>\n",
       "    <tr>\n",
       "      <th>55</th>\n",
       "      <td>CCAFS SLC-40</td>\n",
       "      <td>28.563197</td>\n",
       "      <td>-80.576820</td>\n",
       "      <td>0</td>\n",
       "      <td>red</td>\n",
       "    </tr>\n",
       "  </tbody>\n",
       "</table>\n",
       "</div>"
      ],
      "text/plain": [
       "     Launch Site        Lat       Long  class marker_color\n",
       "46    KSC LC-39A  28.573255 -80.646895      1        green\n",
       "47    KSC LC-39A  28.573255 -80.646895      1        green\n",
       "48    KSC LC-39A  28.573255 -80.646895      1        green\n",
       "49  CCAFS SLC-40  28.563197 -80.576820      1        green\n",
       "50  CCAFS SLC-40  28.563197 -80.576820      1        green\n",
       "51  CCAFS SLC-40  28.563197 -80.576820      0          red\n",
       "52  CCAFS SLC-40  28.563197 -80.576820      0          red\n",
       "53  CCAFS SLC-40  28.563197 -80.576820      0          red\n",
       "54  CCAFS SLC-40  28.563197 -80.576820      1        green\n",
       "55  CCAFS SLC-40  28.563197 -80.576820      0          red"
      ]
     },
     "execution_count": 12,
     "metadata": {},
     "output_type": "execute_result"
    }
   ],
   "source": [
    "# Function to assign color to launch outcome\n",
    "def assign_marker_color(launch_outcome):\n",
    "    if launch_outcome == 1:\n",
    "        return 'green'\n",
    "    else:\n",
    "        return 'red'\n",
    "    \n",
    "spacex_df['marker_color'] = spacex_df['class'].apply(assign_marker_color)\n",
    "spacex_df.tail(10)"
   ]
  },
  {
   "cell_type": "code",
   "execution_count": 13,
   "metadata": {},
   "outputs": [
    {
     "data": {
      "text/html": [
       "<div>\n",
       "<style scoped>\n",
       "    .dataframe tbody tr th:only-of-type {\n",
       "        vertical-align: middle;\n",
       "    }\n",
       "\n",
       "    .dataframe tbody tr th {\n",
       "        vertical-align: top;\n",
       "    }\n",
       "\n",
       "    .dataframe thead th {\n",
       "        text-align: right;\n",
       "    }\n",
       "</style>\n",
       "<table border=\"1\" class=\"dataframe\">\n",
       "  <thead>\n",
       "    <tr style=\"text-align: right;\">\n",
       "      <th></th>\n",
       "      <th>Launch Site</th>\n",
       "      <th>class</th>\n",
       "    </tr>\n",
       "  </thead>\n",
       "  <tbody>\n",
       "    <tr>\n",
       "      <th>36</th>\n",
       "      <td>KSC LC-39A</td>\n",
       "      <td>1.0</td>\n",
       "    </tr>\n",
       "    <tr>\n",
       "      <th>37</th>\n",
       "      <td>KSC LC-39A</td>\n",
       "      <td>0.0</td>\n",
       "    </tr>\n",
       "    <tr>\n",
       "      <th>38</th>\n",
       "      <td>KSC LC-39A</td>\n",
       "      <td>1.0</td>\n",
       "    </tr>\n",
       "    <tr>\n",
       "      <th>39</th>\n",
       "      <td>KSC LC-39A</td>\n",
       "      <td>1.0</td>\n",
       "    </tr>\n",
       "    <tr>\n",
       "      <th>40</th>\n",
       "      <td>KSC LC-39A</td>\n",
       "      <td>0.0</td>\n",
       "    </tr>\n",
       "    <tr>\n",
       "      <th>41</th>\n",
       "      <td>KSC LC-39A</td>\n",
       "      <td>1.0</td>\n",
       "    </tr>\n",
       "    <tr>\n",
       "      <th>42</th>\n",
       "      <td>KSC LC-39A</td>\n",
       "      <td>1.0</td>\n",
       "    </tr>\n",
       "    <tr>\n",
       "      <th>43</th>\n",
       "      <td>KSC LC-39A</td>\n",
       "      <td>0.0</td>\n",
       "    </tr>\n",
       "    <tr>\n",
       "      <th>44</th>\n",
       "      <td>KSC LC-39A</td>\n",
       "      <td>1.0</td>\n",
       "    </tr>\n",
       "    <tr>\n",
       "      <th>45</th>\n",
       "      <td>KSC LC-39A</td>\n",
       "      <td>1.0</td>\n",
       "    </tr>\n",
       "    <tr>\n",
       "      <th>46</th>\n",
       "      <td>KSC LC-39A</td>\n",
       "      <td>1.0</td>\n",
       "    </tr>\n",
       "    <tr>\n",
       "      <th>47</th>\n",
       "      <td>KSC LC-39A</td>\n",
       "      <td>1.0</td>\n",
       "    </tr>\n",
       "    <tr>\n",
       "      <th>48</th>\n",
       "      <td>KSC LC-39A</td>\n",
       "      <td>1.0</td>\n",
       "    </tr>\n",
       "  </tbody>\n",
       "</table>\n",
       "</div>"
      ],
      "text/plain": [
       "   Launch Site  class\n",
       "36  KSC LC-39A    1.0\n",
       "37  KSC LC-39A    0.0\n",
       "38  KSC LC-39A    1.0\n",
       "39  KSC LC-39A    1.0\n",
       "40  KSC LC-39A    0.0\n",
       "41  KSC LC-39A    1.0\n",
       "42  KSC LC-39A    1.0\n",
       "43  KSC LC-39A    0.0\n",
       "44  KSC LC-39A    1.0\n",
       "45  KSC LC-39A    1.0\n",
       "46  KSC LC-39A    1.0\n",
       "47  KSC LC-39A    1.0\n",
       "48  KSC LC-39A    1.0"
      ]
     },
     "execution_count": 13,
     "metadata": {},
     "output_type": "execute_result"
    }
   ],
   "source": [
    "filtered_df = spacex_df[['Launch Site','class']]\n",
    "ksc_df = pd.DataFrame()\n",
    "for index,row in filtered_df.iterrows():\n",
    "    if row['Launch Site'] == 'KSC LC-39A':\n",
    "        ksc_df = ksc_df.append(row)\n",
    "ksc_df"
   ]
  },
  {
   "cell_type": "markdown",
   "metadata": {},
   "source": [
    "*TODO:* For each launch result in `spacex_df` data frame, add a `folium.Marker` to `marker_cluster`\n"
   ]
  },
  {
   "cell_type": "code",
   "execution_count": 14,
   "metadata": {},
   "outputs": [
    {
     "data": {
      "text/html": [
       "<div style=\"width:100%;\"><div style=\"position:relative;width:100%;height:0;padding-bottom:60%;\"><span style=\"color:#565656\">Make this Notebook Trusted to load map: File -> Trust Notebook</span><iframe src=\"about:blank\" style=\"position:absolute;width:100%;height:100%;left:0;top:0;border:none !important;\" data-html=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 onload=\"this.contentDocument.open();this.contentDocument.write(atob(this.getAttribute('data-html')));this.contentDocument.close();\" allowfullscreen webkitallowfullscreen mozallowfullscreen></iframe></div></div>"
      ],
      "text/plain": [
       "<folium.folium.Map at 0x228461435e0>"
      ]
     },
     "execution_count": 14,
     "metadata": {},
     "output_type": "execute_result"
    }
   ],
   "source": [
    "# Add marker_cluster to current site_map\n",
    "site_map.add_child(marker_cluster)\n",
    "\n",
    "# for each row in spacex_df data frame\n",
    "# create a Marker object with its coordinate\n",
    "# and customize the Marker's icon property to indicate if this launch was successed or failed, \n",
    "# e.g., icon=folium.Icon(color='white', icon_color=row['marker_color']\n",
    "for index, row in spacex_df.iterrows():\n",
    "    # TODO: Create and add a Marker cluster to the site map\n",
    "    # marker = folium.Marker(...)\n",
    "    launch_site_coordinate = [row['Lat'],row['Long']]\n",
    "    marker = folium.map.Marker(\n",
    "        launch_site_coordinate,\n",
    "        # Create an icon as a text label\n",
    "        icon=folium.Icon(color='white', icon_color=row['marker_color'])\n",
    "        )\n",
    "    marker_cluster.add_child(marker)\n",
    "\n",
    "site_map"
   ]
  },
  {
   "cell_type": "markdown",
   "metadata": {},
   "source": [
    "Your updated map may look like the following screenshots:\n"
   ]
  },
  {
   "cell_type": "markdown",
   "metadata": {},
   "source": [
    "<center>\n",
    "    <img src=\"https://cf-courses-data.s3.us.cloud-object-storage.appdomain.cloud/IBM-DS0321EN-SkillsNetwork/labs/module_3/images/launch_site_marker_cluster.png\" />\n",
    "</center>\n"
   ]
  },
  {
   "cell_type": "markdown",
   "metadata": {},
   "source": [
    "<center>\n",
    "    <img src=\"https://cf-courses-data.s3.us.cloud-object-storage.appdomain.cloud/IBM-DS0321EN-SkillsNetwork/labs/module_3/images/launch_site_marker_cluster_zoomed.png\" />\n",
    "</center>\n"
   ]
  },
  {
   "cell_type": "markdown",
   "metadata": {},
   "source": [
    "From the color-labeled markers in marker clusters, you should be able to easily identify which launch sites have relatively high success rates.\n"
   ]
  },
  {
   "cell_type": "markdown",
   "metadata": {},
   "source": [
    "# TASK 3: Calculate the distances between a launch site to its proximities\n"
   ]
  },
  {
   "cell_type": "markdown",
   "metadata": {},
   "source": [
    "Next, we need to explore and analyze the proximities of launch sites.\n"
   ]
  },
  {
   "cell_type": "markdown",
   "metadata": {},
   "source": [
    "Let's first add a `MousePosition` on the map to get coordinate for a mouse over a point on the map. As such, while you are exploring the map, you can easily find the coordinates of any points of interests (such as railway)\n"
   ]
  },
  {
   "cell_type": "code",
   "execution_count": 15,
   "metadata": {},
   "outputs": [
    {
     "data": {
      "text/html": [
       "<div style=\"width:100%;\"><div style=\"position:relative;width:100%;height:0;padding-bottom:60%;\"><span style=\"color:#565656\">Make this Notebook Trusted to load map: File -> Trust Notebook</span><iframe src=\"about:blank\" style=\"position:absolute;width:100%;height:100%;left:0;top:0;border:none !important;\" data-html=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 onload=\"this.contentDocument.open();this.contentDocument.write(atob(this.getAttribute('data-html')));this.contentDocument.close();\" allowfullscreen webkitallowfullscreen mozallowfullscreen></iframe></div></div>"
      ],
      "text/plain": [
       "<folium.folium.Map at 0x228461435e0>"
      ]
     },
     "execution_count": 15,
     "metadata": {},
     "output_type": "execute_result"
    }
   ],
   "source": [
    "# Add Mouse Position to get the coordinate (Lat, Long) for a mouse over on the map\n",
    "formatter = \"function(num) {return L.Util.formatNum(num, 5);};\"\n",
    "mouse_position = MousePosition(\n",
    "    position='topright',\n",
    "    separator=' Long: ',\n",
    "    empty_string='NaN',\n",
    "    lng_first=False,\n",
    "    num_digits=20,\n",
    "    prefix='Lat:',\n",
    "    lat_formatter=formatter,\n",
    "    lng_formatter=formatter,\n",
    ")\n",
    "\n",
    "site_map.add_child(mouse_position)\n",
    "site_map"
   ]
  },
  {
   "cell_type": "markdown",
   "metadata": {},
   "source": [
    "Now zoom in to a launch site and explore its proximity to see if you can easily find any railway, highway, coastline, etc. Move your mouse to these points and mark down their coordinates (shown on the top-left) in order to the distance to the launch site.\n"
   ]
  },
  {
   "cell_type": "markdown",
   "metadata": {},
   "source": [
    "You can calculate the distance between two points on the map based on their `Lat` and `Long` values using the following method:\n"
   ]
  },
  {
   "cell_type": "code",
   "execution_count": 16,
   "metadata": {},
   "outputs": [],
   "source": [
    "from math import sin, cos, sqrt, atan2, radians\n",
    "\n",
    "def calculate_distance(lat1, lon1, lat2, lon2):\n",
    "    # approximate radius of earth in km\n",
    "    R = 6373.0\n",
    "\n",
    "    lat1 = radians(lat1)\n",
    "    lon1 = radians(lon1)\n",
    "    lat2 = radians(lat2)\n",
    "    lon2 = radians(lon2)\n",
    "\n",
    "    dlon = lon2 - lon1\n",
    "    dlat = lat2 - lat1\n",
    "\n",
    "    a = sin(dlat / 2)**2 + cos(lat1) * cos(lat2) * sin(dlon / 2)**2\n",
    "    c = 2 * atan2(sqrt(a), sqrt(1 - a))\n",
    "\n",
    "    distance = R * c\n",
    "    return distance"
   ]
  },
  {
   "cell_type": "markdown",
   "metadata": {},
   "source": [
    "*TODO:* Mark down a point on the closest coastline using MousePosition and calculate the distance between the coastline point and the launch site.\n"
   ]
  },
  {
   "cell_type": "code",
   "execution_count": 19,
   "metadata": {},
   "outputs": [
    {
     "name": "stdout",
     "output_type": "stream",
     "text": [
      "The closest distance of the KSC LC-39A location to a Coastline is around 7.41 km\n"
     ]
    }
   ],
   "source": [
    "# find coordinate of the closet coastline\n",
    "# e.g.,: Lat: 28.56367  Lon: -80.57163\n",
    "#distance_coastline =  calculate_distance(lat1, lon1, lat2, lon2)\n",
    "# coastline location from MousePosition inspection\n",
    "lat_Coastline = 28.57359\n",
    "lon_Coastline = -80.57107\n",
    "\n",
    "# KSC LC-39A location\n",
    "lat_LaunchSite = 28.573255\n",
    "lon_LaunchSite = -80.646895\n",
    "\n",
    "distance_Coastline = calculate_distance(lat_LaunchSite, lon_LaunchSite, lat_Coastline, lon_Coastline)\n",
    "\n",
    "print(\"The closest distance of the KSC LC-39A location to a Coastline is around\", round(distance_Coastline, 2), \"km\")\n"
   ]
  },
  {
   "cell_type": "markdown",
   "metadata": {},
   "source": [
    "*TODO:* After obtained its coordinate, create a `folium.Marker` to show the distance\n"
   ]
  },
  {
   "cell_type": "code",
   "execution_count": 20,
   "metadata": {},
   "outputs": [
    {
     "data": {
      "text/html": [
       "<div style=\"width:100%;\"><div style=\"position:relative;width:100%;height:0;padding-bottom:60%;\"><span style=\"color:#565656\">Make this Notebook Trusted to load map: File -> Trust Notebook</span><iframe src=\"about:blank\" style=\"position:absolute;width:100%;height:100%;left:0;top:0;border:none !important;\" data-html=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 onload=\"this.contentDocument.open();this.contentDocument.write(atob(this.getAttribute('data-html')));this.contentDocument.close();\" allowfullscreen webkitallowfullscreen mozallowfullscreen></iframe></div></div>"
      ],
      "text/plain": [
       "<folium.folium.Map at 0x228461435e0>"
      ]
     },
     "execution_count": 20,
     "metadata": {},
     "output_type": "execute_result"
    }
   ],
   "source": [
    "# create and add a folium.Marker on your selected closest coastline point on the map\n",
    "# show the distance to the launch site using the icon property \n",
    "distance_Coastline_str = str(round(distance_Coastline,2)) + ' km'\n",
    "\n",
    "# creating marker for the closest railway    \n",
    "marker_Coastline = folium.map.Marker(\n",
    "    [lat_Coastline,lon_Coastline],\n",
    "    # Create an icon as a text label\n",
    "    icon=DivIcon(\n",
    "        icon_size=(20,20),\n",
    "        icon_anchor=(0,0),\n",
    "        html='<div style=\"font-size: 12; color:#d35400;\"><b>%s</b></div>' % distance_Coastline_str,\n",
    "        )\n",
    "    )\n",
    "site_map.add_child(marker_Coastline)\n",
    "\n",
    "# creating line for the Coastline-launchsite distance visualization\n",
    "folium.PolyLine([[lat_Coastline,lon_Coastline],[lat_LaunchSite,lon_LaunchSite]], color='red').add_to(site_map)\n",
    "\n",
    "\n",
    "site_map"
   ]
  },
  {
   "cell_type": "markdown",
   "metadata": {},
   "source": [
    "*TODO:* Draw a `PolyLine` between a launch site to the selected coastline point\n"
   ]
  },
  {
   "cell_type": "markdown",
   "metadata": {},
   "source": [
    "Your updated map with distance line should look like the following screenshot:\n"
   ]
  },
  {
   "cell_type": "markdown",
   "metadata": {},
   "source": [
    "<center>\n",
    "    <img src=\"https://cf-courses-data.s3.us.cloud-object-storage.appdomain.cloud/IBM-DS0321EN-SkillsNetwork/labs/module_3/images/launch_site_marker_distance.png\" />\n",
    "</center>\n"
   ]
  },
  {
   "cell_type": "markdown",
   "metadata": {},
   "source": [
    "*TODO:* Similarly, you can draw a line betwee a launch site to its closest city, railway, highway, etc. You need to use `MousePosition` to find the their coordinates on the map first\n"
   ]
  },
  {
   "cell_type": "markdown",
   "metadata": {},
   "source": [
    "A railway map symbol may look like this:\n"
   ]
  },
  {
   "cell_type": "markdown",
   "metadata": {},
   "source": [
    "<center>\n",
    "    <img src=\"https://cf-courses-data.s3.us.cloud-object-storage.appdomain.cloud/IBM-DS0321EN-SkillsNetwork/labs/module_3/images/railway.png\" />\n",
    "</center>\n"
   ]
  },
  {
   "cell_type": "markdown",
   "metadata": {},
   "source": [
    "A highway map symbol may look like this:\n"
   ]
  },
  {
   "cell_type": "markdown",
   "metadata": {},
   "source": [
    "<center>\n",
    "    <img src=\"https://cf-courses-data.s3.us.cloud-object-storage.appdomain.cloud/IBM-DS0321EN-SkillsNetwork/labs/module_3/images/highway.png\" />\n",
    "</center>\n"
   ]
  },
  {
   "cell_type": "markdown",
   "metadata": {},
   "source": [
    "A city map symbol may look like this:\n"
   ]
  },
  {
   "cell_type": "markdown",
   "metadata": {},
   "source": [
    "<center>\n",
    "    <img src=\"https://cf-courses-data.s3.us.cloud-object-storage.appdomain.cloud/IBM-DS0321EN-SkillsNetwork/labs/module_3/images/city.png\" />\n",
    "</center>\n"
   ]
  },
  {
   "cell_type": "code",
   "execution_count": 21,
   "metadata": {},
   "outputs": [
    {
     "data": {
      "text/html": [
       "<div style=\"width:100%;\"><div style=\"position:relative;width:100%;height:0;padding-bottom:60%;\"><span style=\"color:#565656\">Make this Notebook Trusted to load map: File -> Trust Notebook</span><iframe src=\"about:blank\" style=\"position:absolute;width:100%;height:100%;left:0;top:0;border:none !important;\" data-html=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 onload=\"this.contentDocument.open();this.contentDocument.write(atob(this.getAttribute('data-html')));this.contentDocument.close();\" allowfullscreen webkitallowfullscreen mozallowfullscreen></iframe></div></div>"
      ],
      "text/plain": [
       "<folium.folium.Map at 0x228461435e0>"
      ]
     },
     "execution_count": 21,
     "metadata": {},
     "output_type": "execute_result"
    }
   ],
   "source": [
    "# Create a `folium.PolyLine` object using the railway point coordinate and launch site coordinate\n",
    "# Coordinates of the sites: \n",
    "lat_LaunchSite = 28.573255\n",
    "lon_LaunchSite = -80.646895\n",
    "lat_City = 28.61225\n",
    "lon_City = -80.81303\n",
    "lat_Coastline = 28.57359\n",
    "lon_Coastline = -80.57107\n",
    "lat_Highway = 28.57371\n",
    "lon_Highway = -80.65544\n",
    "\n",
    "# Calculating distnce to the sites from the Launch Site\n",
    "distance_City = calculate_distance(lat_LaunchSite, lon_LaunchSite, lat_City, lon_City)\n",
    "distance_Coastline = calculate_distance(lat_LaunchSite, lon_LaunchSite, lat_Coastline, lon_Coastline)\n",
    "distance_Highway = calculate_distance(lat_LaunchSite, lon_LaunchSite, lat_Highway, lon_Highway)\n",
    "\n",
    "# Conversion to string so that it can be printed in an icon \n",
    "distance_City_str = str(round(distance_City, 2)) + \" km\"\n",
    "distance_Coastline_str = str(round(distance_Coastline, 2)) + \" km\"\n",
    "distance_Highway_str = str(round(distance_Highway, 2)) + \" km\"\n",
    "\n",
    "\n",
    "# CLOSEST CITY\n",
    "marker_city = folium.map.Marker(\n",
    "    [lat_City,lon_City],\n",
    "    # Create an icon as a text label\n",
    "    icon=DivIcon(\n",
    "        icon_size=(20,20),\n",
    "        icon_anchor=(0,0),\n",
    "        html='<div style=\"font-size: 12; color:#d35400;\"><b>%s</b></div>' % distance_City_str,\n",
    "        )\n",
    "    )\n",
    "site_map.add_child(marker_city)        \n",
    "folium.PolyLine([[lat_LaunchSite,lon_LaunchSite],[lat_City,lon_City]], color='Green').add_to(site_map)\n",
    "\n",
    "# CLOSEST COASTLINE\n",
    "marker_coastline = folium.map.Marker(\n",
    "    [lat_Coastline,lon_Coastline],\n",
    "    # Create an icon as a text label\n",
    "    icon=DivIcon(\n",
    "        icon_size=(20,20),\n",
    "        icon_anchor=(0,0),\n",
    "        html='<div style=\"font-size: 12; color:#d35400;\"><b>%s</b></div>' % distance_Coastline_str,\n",
    "        )\n",
    "    )\n",
    "site_map.add_child(marker_coastline)\n",
    "folium.PolyLine([[lat_LaunchSite,lon_LaunchSite],[lat_Coastline,lon_Coastline]], color='black').add_to(site_map)\n",
    "\n",
    "# CLOSEST HIGHWAY\n",
    "marker_highway = folium.map.Marker(\n",
    "    [lat_Highway,lon_Highway],\n",
    "    # Create an icon as a text label\n",
    "    icon=DivIcon(\n",
    "        icon_size=(20,20),\n",
    "        icon_anchor=(0,0),\n",
    "        html='<div style=\"font-size: 12; color:#d35400;\"><b>%s</b></div>' % distance_Highway_str,\n",
    "        )\n",
    "    )\n",
    "site_map.add_child(marker_highway)\n",
    "folium.PolyLine([[lat_LaunchSite,lon_LaunchSite],[lat_Highway,lon_Highway]], color='green').add_to(site_map)\n",
    "\n",
    "\n",
    "\n",
    "site_map"
   ]
  },
  {
   "cell_type": "markdown",
   "metadata": {},
   "source": [
    "After you plot distance lines to the proximities, you can answer the following questions easily:\n",
    "\n",
    "*   Are launch sites in close proximity to railways?\n",
    "*   Are launch sites in close proximity to highways?\n",
    "*   Are launch sites in close proximity to coastline?\n",
    "*   Do launch sites keep certain distance away from cities?\n",
    "\n",
    "Also please try to explain your findings.\n"
   ]
  },
  {
   "cell_type": "markdown",
   "metadata": {},
   "source": [
    "# Next Steps:\n",
    "\n",
    "Now you have discovered many interesting insights related to the launch sites' location using folium, in a very interactive way. Next, you will need to build a dashboard using Ploty Dash on detailed launch records.\n"
   ]
  },
  {
   "cell_type": "markdown",
   "metadata": {},
   "source": [
    "## Authors\n"
   ]
  },
  {
   "cell_type": "markdown",
   "metadata": {},
   "source": [
    "[Yan Luo](https://www.linkedin.com/in/yan-luo-96288783/?utm_medium=Exinfluencer&utm_source=Exinfluencer&utm_content=000026UJ&utm_term=10006555&utm_id=NA-SkillsNetwork-Channel-SkillsNetworkCoursesIBMDS0321ENSkillsNetwork26802033-2021-01-01)\n"
   ]
  },
  {
   "cell_type": "markdown",
   "metadata": {},
   "source": [
    "### Other Contributors\n"
   ]
  },
  {
   "cell_type": "markdown",
   "metadata": {},
   "source": [
    "Joseph Santarcangelo\n"
   ]
  },
  {
   "cell_type": "markdown",
   "metadata": {},
   "source": [
    "## Change Log\n"
   ]
  },
  {
   "cell_type": "markdown",
   "metadata": {},
   "source": [
    "| Date (YYYY-MM-DD) | Version | Changed By | Change Description          |\n",
    "| ----------------- | ------- | ---------- | --------------------------- |\n",
    "| 2021-05-26        | 1.0     | Yan        | Created the initial version |\n"
   ]
  },
  {
   "cell_type": "markdown",
   "metadata": {},
   "source": [
    "Copyright © 2021 IBM Corporation. All rights reserved.\n"
   ]
  }
 ],
 "metadata": {
  "kernelspec": {
   "display_name": "Python 3",
   "language": "python",
   "name": "python3"
  },
  "language_info": {
   "codemirror_mode": {
    "name": "ipython",
    "version": 3
   },
   "file_extension": ".py",
   "mimetype": "text/x-python",
   "name": "python",
   "nbconvert_exporter": "python",
   "pygments_lexer": "ipython3",
   "version": "3.8.3"
  },
  "papermill": {
   "duration": 142.196942,
   "end_time": "2020-09-19T06:29:13.341578",
   "environment_variables": {},
   "exception": null,
   "input_path": "__notebook__.ipynb",
   "output_path": "__notebook__.ipynb",
   "parameters": {},
   "start_time": "2020-09-19T06:26:51.144636",
   "version": "2.1.0"
  }
 },
 "nbformat": 4,
 "nbformat_minor": 4
}
